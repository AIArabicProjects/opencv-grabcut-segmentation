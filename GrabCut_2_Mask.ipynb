{
 "cells": [
  {
   "cell_type": "code",
   "execution_count": null,
   "metadata": {
    "id": "c9ZaWzSbNkOK"
   },
   "outputs": [],
   "source": [
    "import numpy as np\n",
    "import time\n",
    "import cv2\n",
    "import os\n",
    "from matplotlib import pyplot as plt"
   ]
  },
  {
   "cell_type": "code",
   "execution_count": null,
   "metadata": {
    "id": "scKZz7upNulF"
   },
   "outputs": [],
   "source": [
    "image = cv2.imread(\"img.jpg\")"
   ]
  },
  {
   "cell_type": "code",
   "execution_count": null,
   "metadata": {
    "id": "RGrJpou2N0nF"
   },
   "outputs": [],
   "source": [
    "mask = cv2.imread(\"img_mask.jpg\", cv2.IMREAD_GRAYSCALE)"
   ]
  },
  {
   "cell_type": "code",
   "execution_count": null,
   "metadata": {
    "id": "IYlCnlAON7_l"
   },
   "outputs": [],
   "source": [
    "roughOutput = cv2.bitwise_and(image, image, mask=mask)"
   ]
  },
  {
   "cell_type": "code",
   "execution_count": null,
   "metadata": {
    "colab": {
     "base_uri": "https://localhost:8080/",
     "height": 269
    },
    "id": "pXueTBv6N_ru",
    "outputId": "4d733c37-1070-45f3-b382-b6b525a41853"
   },
   "outputs": [],
   "source": [
    "plt.imshow(np.real(roughOutput))\n",
    "plt.show()"
   ]
  },
  {
   "cell_type": "code",
   "execution_count": null,
   "metadata": {
    "id": "RQn9H4V0OCc0"
   },
   "outputs": [],
   "source": [
    "mask[mask > 0] = cv2.GC_PR_FGD\n",
    "mask[mask == 0] = cv2.GC_BGD"
   ]
  },
  {
   "cell_type": "code",
   "execution_count": null,
   "metadata": {
    "id": "saG3PGh3OFvD"
   },
   "outputs": [],
   "source": [
    "fgModel = np.zeros((1, 65), dtype=\"float\")\n",
    "bgModel = np.zeros((1, 65), dtype=\"float\")"
   ]
  },
  {
   "cell_type": "code",
   "execution_count": null,
   "metadata": {
    "colab": {
     "base_uri": "https://localhost:8080/"
    },
    "id": "4dQPCuxvOINk",
    "outputId": "afb8906d-4b53-42d8-913c-9fa56ef91ee9"
   },
   "outputs": [],
   "source": [
    "start = time.time()\n",
    "(mask, bgModel, fgModel) = cv2.grabCut(image, mask, None, bgModel,\n",
    "                                       fgModel, iterCount=50, mode=cv2.GC_INIT_WITH_MASK)\n",
    "end = time.time()\n",
    "print(\"[INFO] applying GrabCut took {:.2f} seconds\".format(end - start))"
   ]
  },
  {
   "cell_type": "code",
   "execution_count": null,
   "metadata": {
    "id": "ZpXWzntUOLYV"
   },
   "outputs": [],
   "source": [
    "values = (\n",
    "  (\"Definite Background\", cv2.GC_BGD),\n",
    "  (\"Probable Background\", cv2.GC_PR_BGD),\n",
    "  (\"Definite Foreground\", cv2.GC_FGD),\n",
    "  (\"Probable Foreground\", cv2.GC_PR_FGD),\n",
    ")"
   ]
  },
  {
   "cell_type": "code",
   "execution_count": null,
   "metadata": {
    "colab": {
     "base_uri": "https://localhost:8080/",
     "height": 1000
    },
    "id": "4M29NULFOOp3",
    "outputId": "4689c379-9ce4-4726-fc34-3082e9b76c44"
   },
   "outputs": [],
   "source": [
    "for (name, value) in values:\n",
    "    # construct a mask that for the current value\n",
    "    print(\"[INFO] showing mask for '{}'\".format(name))\n",
    "    valueMask = (mask == value).astype(\"uint8\") * 255\n",
    "\n",
    "    # display the mask so we can visualize it\n",
    "    plt.imshow(valueMask)\n",
    "    plt.show()"
   ]
  },
  {
   "cell_type": "code",
   "execution_count": null,
   "metadata": {
    "id": "SLQn3gCVORWE"
   },
   "outputs": [],
   "source": [
    "outputMask = np.where((mask == cv2.GC_BGD) | (mask == cv2.GC_PR_BGD),\n",
    "                      0, 1)\n",
    "outputMask = (outputMask * 255).astype(\"uint8\")"
   ]
  },
  {
   "cell_type": "code",
   "execution_count": null,
   "metadata": {
    "id": "9g6shQMWOV_D"
   },
   "outputs": [],
   "source": [
    "output = cv2.bitwise_and(image, image, mask=outputMask)"
   ]
  },
  {
   "cell_type": "code",
   "execution_count": null,
   "metadata": {
    "colab": {
     "base_uri": "https://localhost:8080/",
     "height": 773
    },
    "id": "_LwDasUIOZCM",
    "outputId": "033e89db-a9b4-4f91-d6a5-9da87b3d538d"
   },
   "outputs": [],
   "source": [
    "plt.imshow(image)\n",
    "plt.show()\n",
    "plt.imshow(outputMask)\n",
    "plt.show()\n",
    "plt.imshow(output)\n",
    "plt.show()"
   ]
  },
  {
   "cell_type": "code",
   "execution_count": null,
   "metadata": {},
   "outputs": [],
   "source": []
  }
 ],
 "metadata": {
  "colab": {
   "name": "GrabCut_2_Mask.ipynb",
   "provenance": []
  },
  "kernelspec": {
   "display_name": "Python 3",
   "language": "python",
   "name": "python3"
  },
  "language_info": {
   "codemirror_mode": {
    "name": "ipython",
    "version": 3
   },
   "file_extension": ".py",
   "mimetype": "text/x-python",
   "name": "python",
   "nbconvert_exporter": "python",
   "pygments_lexer": "ipython3",
   "version": "3.7.3"
  }
 },
 "nbformat": 4,
 "nbformat_minor": 1
}
